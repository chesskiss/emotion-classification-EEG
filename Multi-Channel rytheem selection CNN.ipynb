{
 "cells": [
  {
   "cell_type": "code",
   "execution_count": 7,
   "metadata": {},
   "outputs": [
    {
     "ename": "ValueError",
     "evalue": "This model has not yet been built. Build the model first by calling `build()` or by calling the model on a batch of data.",
     "output_type": "error",
     "traceback": [
      "\u001b[0;31m---------------------------------------------------------------------------\u001b[0m",
      "\u001b[0;31mValueError\u001b[0m                                Traceback (most recent call last)",
      "\u001b[1;32m/Users/arnoldcheskis/Documents/Deep learning/Project/Multi-Channel rytheem selection CNN.ipynb Cell 1\u001b[0m line \u001b[0;36m1\n\u001b[1;32m      <a href='vscode-notebook-cell:/Users/arnoldcheskis/Documents/Deep%20learning/Project/Multi-Channel%20rytheem%20selection%20CNN.ipynb#W0sZmlsZQ%3D%3D?line=4'>5</a>\u001b[0m model \u001b[39m=\u001b[39m tf\u001b[39m.\u001b[39mkeras\u001b[39m.\u001b[39mSequential([\n\u001b[1;32m      <a href='vscode-notebook-cell:/Users/arnoldcheskis/Documents/Deep%20learning/Project/Multi-Channel%20rytheem%20selection%20CNN.ipynb#W0sZmlsZQ%3D%3D?line=5'>6</a>\u001b[0m     layers\u001b[39m.\u001b[39mConv2D(\u001b[39m32\u001b[39m, kernel_size\u001b[39m=\u001b[39m(\u001b[39m5\u001b[39m,\u001b[39m14\u001b[39m), activation\u001b[39m=\u001b[39m\u001b[39m'\u001b[39m\u001b[39mrelu\u001b[39m\u001b[39m'\u001b[39m, bias_initializer\u001b[39m=\u001b[39mtf\u001b[39m.\u001b[39mkeras\u001b[39m.\u001b[39minitializers\u001b[39m.\u001b[39mConstant(\u001b[39m32\u001b[39m))\n\u001b[1;32m      <a href='vscode-notebook-cell:/Users/arnoldcheskis/Documents/Deep%20learning/Project/Multi-Channel%20rytheem%20selection%20CNN.ipynb#W0sZmlsZQ%3D%3D?line=6'>7</a>\u001b[0m     ], name\u001b[39m=\u001b[39m\u001b[39m'\u001b[39m\u001b[39mCNN\u001b[39m\u001b[39m'\u001b[39m)\n\u001b[1;32m      <a href='vscode-notebook-cell:/Users/arnoldcheskis/Documents/Deep%20learning/Project/Multi-Channel%20rytheem%20selection%20CNN.ipynb#W0sZmlsZQ%3D%3D?line=7'>8</a>\u001b[0m     \u001b[39m# layers.MaxPooling2D(pool_size=(2, 2)),\u001b[39;00m\n\u001b[1;32m      <a href='vscode-notebook-cell:/Users/arnoldcheskis/Documents/Deep%20learning/Project/Multi-Channel%20rytheem%20selection%20CNN.ipynb#W0sZmlsZQ%3D%3D?line=8'>9</a>\u001b[0m     \u001b[39m# layers.Conv2D(32, kernel_size=(3, 3), activation='relu'),\u001b[39;00m\n\u001b[1;32m     <a href='vscode-notebook-cell:/Users/arnoldcheskis/Documents/Deep%20learning/Project/Multi-Channel%20rytheem%20selection%20CNN.ipynb#W0sZmlsZQ%3D%3D?line=9'>10</a>\u001b[0m     \u001b[39m# layers.MaxPooling2D(pool_size=(2, 2)),\u001b[39;00m\n\u001b[1;32m     <a href='vscode-notebook-cell:/Users/arnoldcheskis/Documents/Deep%20learning/Project/Multi-Channel%20rytheem%20selection%20CNN.ipynb#W0sZmlsZQ%3D%3D?line=10'>11</a>\u001b[0m     \u001b[39m# layers.Flatten(),\u001b[39;00m\n\u001b[1;32m     <a href='vscode-notebook-cell:/Users/arnoldcheskis/Documents/Deep%20learning/Project/Multi-Channel%20rytheem%20selection%20CNN.ipynb#W0sZmlsZQ%3D%3D?line=11'>12</a>\u001b[0m     \u001b[39m# layers.Dense(1, activation='sigmoid')\u001b[39;00m\n\u001b[0;32m---> <a href='vscode-notebook-cell:/Users/arnoldcheskis/Documents/Deep%20learning/Project/Multi-Channel%20rytheem%20selection%20CNN.ipynb#W0sZmlsZQ%3D%3D?line=13'>14</a>\u001b[0m model\u001b[39m.\u001b[39;49msummary()\n",
      "File \u001b[0;32m~/Library/Python/3.9/lib/python/site-packages/keras/src/engine/training.py:3482\u001b[0m, in \u001b[0;36mModel.summary\u001b[0;34m(self, line_length, positions, print_fn, expand_nested, show_trainable, layer_range)\u001b[0m\n\u001b[1;32m   3451\u001b[0m \u001b[39m\u001b[39m\u001b[39m\"\"\"Prints a string summary of the network.\u001b[39;00m\n\u001b[1;32m   3452\u001b[0m \n\u001b[1;32m   3453\u001b[0m \u001b[39mArgs:\u001b[39;00m\n\u001b[0;32m   (...)\u001b[0m\n\u001b[1;32m   3479\u001b[0m \u001b[39m    ValueError: if `summary()` is called before the model is built.\u001b[39;00m\n\u001b[1;32m   3480\u001b[0m \u001b[39m\"\"\"\u001b[39;00m\n\u001b[1;32m   3481\u001b[0m \u001b[39mif\u001b[39;00m \u001b[39mnot\u001b[39;00m \u001b[39mself\u001b[39m\u001b[39m.\u001b[39mbuilt:\n\u001b[0;32m-> 3482\u001b[0m     \u001b[39mraise\u001b[39;00m \u001b[39mValueError\u001b[39;00m(\n\u001b[1;32m   3483\u001b[0m         \u001b[39m\"\u001b[39m\u001b[39mThis model has not yet been built. \u001b[39m\u001b[39m\"\u001b[39m\n\u001b[1;32m   3484\u001b[0m         \u001b[39m\"\u001b[39m\u001b[39mBuild the model first by calling `build()` or by calling \u001b[39m\u001b[39m\"\u001b[39m\n\u001b[1;32m   3485\u001b[0m         \u001b[39m\"\u001b[39m\u001b[39mthe model on a batch of data.\u001b[39m\u001b[39m\"\u001b[39m\n\u001b[1;32m   3486\u001b[0m     )\n\u001b[1;32m   3487\u001b[0m layer_utils\u001b[39m.\u001b[39mprint_summary(\n\u001b[1;32m   3488\u001b[0m     \u001b[39mself\u001b[39m,\n\u001b[1;32m   3489\u001b[0m     line_length\u001b[39m=\u001b[39mline_length,\n\u001b[0;32m   (...)\u001b[0m\n\u001b[1;32m   3494\u001b[0m     layer_range\u001b[39m=\u001b[39mlayer_range,\n\u001b[1;32m   3495\u001b[0m )\n",
      "\u001b[0;31mValueError\u001b[0m: This model has not yet been built. Build the model first by calling `build()` or by calling the model on a batch of data."
     ]
    }
   ],
   "source": [
    "import tensorflow as tf\n",
    "from tensorflow.keras import layers, models\n",
    "\n",
    "\n",
    "model = tf.keras.Sequential([\n",
    "    layers.Conv2D(32, kernel_size=5, strides=14, activation='relu', bias_initializer=tf.keras.initializers.Constant(32)),\n",
    "    layers.Conv2D(32, kernel_size=5, strides=32, activation='relu', bias_initializer=tf.keras.initializers.Constant(32)),\n",
    "    layers.AveragePool1D(2),\n",
    "    \n",
    "    ], name='CNN')\n",
    "    # layers.MaxPooling2D(pool_size=(2, 2)),\n",
    "    # layers.Conv2D(32, kernel_size=(3, 3), activation='relu'),\n",
    "    # layers.MaxPooling2D(pool_size=(2, 2)),\n",
    "    # layers.Flatten(),\n",
    "    # layers.Dense(1, activation='sigmoid')\n",
    "\n",
    "# model.summary()\n"
   ]
  }
 ],
 "metadata": {
  "kernelspec": {
   "display_name": "Python 3",
   "language": "python",
   "name": "python3"
  },
  "language_info": {
   "codemirror_mode": {
    "name": "ipython",
    "version": 3
   },
   "file_extension": ".py",
   "mimetype": "text/x-python",
   "name": "python",
   "nbconvert_exporter": "python",
   "pygments_lexer": "ipython3",
   "version": "3.9.6"
  }
 },
 "nbformat": 4,
 "nbformat_minor": 2
}
